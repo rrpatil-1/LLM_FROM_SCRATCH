{
 "cells": [
  {
   "cell_type": "code",
   "execution_count": 56,
   "metadata": {},
   "outputs": [
    {
     "name": "stdout",
     "output_type": "stream",
     "text": [
      "cpu\n"
     ]
    }
   ],
   "source": [
    "import torch\n",
    "import torch.nn as nn\n",
    "import torch.nn.functional as F\n",
    "device = 'cuda' if torch.cuda.is_available() else 'cpu'\n",
    "print(device)"
   ]
  },
  {
   "cell_type": "code",
   "execution_count": 57,
   "metadata": {},
   "outputs": [
    {
     "name": "stdout",
     "output_type": "stream",
     "text": [
      "['\\n', ' ', '!', '\"', '&', \"'\", '(', ')', '*', ',', '-', '.', '0', '1', '2', '3', '4', '5', '6', '7', '8', '9', ':', ';', '?', 'A', 'B', 'C', 'D', 'E', 'F', 'G', 'H', 'I', 'J', 'K', 'L', 'M', 'N', 'O', 'P', 'Q', 'R', 'S', 'T', 'U', 'V', 'W', 'X', 'Y', 'Z', '[', ']', '_', 'a', 'b', 'c', 'd', 'e', 'f', 'g', 'h', 'i', 'j', 'k', 'l', 'm', 'n', 'o', 'p', 'q', 'r', 's', 't', 'u', 'v', 'w', 'x', 'y', 'z', '\\ufeff']\n",
      "81\n"
     ]
    }
   ],
   "source": [
    "with open('wizard_of_oz.txt','r',encoding='utf-8') as f:\n",
    "    text = f.read()\n",
    "chars = sorted(set(text))   \n",
    "print(chars)\n",
    "print(len(chars))"
   ]
  },
  {
   "cell_type": "code",
   "execution_count": 58,
   "metadata": {},
   "outputs": [],
   "source": [
    "string_to_int  = {ch:i for i,ch in enumerate(chars)}\n",
    "int_to_string = { i:ch for i,ch in enumerate(chars)}\n",
    "\n",
    "encode = lambda s: [ string_to_int[c] for c in s]\n",
    "decode = lambda s: ''.join([int_to_string[c] for c in s])"
   ]
  },
  {
   "cell_type": "code",
   "execution_count": 59,
   "metadata": {},
   "outputs": [
    {
     "data": {
      "text/plain": [
       "[42, 54, 61, 74, 65]"
      ]
     },
     "execution_count": 59,
     "metadata": {},
     "output_type": "execute_result"
    }
   ],
   "source": [
    "encode('Rahul')"
   ]
  },
  {
   "cell_type": "code",
   "execution_count": 60,
   "metadata": {},
   "outputs": [
    {
     "data": {
      "text/plain": [
       "'Rahul'"
      ]
     },
     "execution_count": 60,
     "metadata": {},
     "output_type": "execute_result"
    }
   ],
   "source": [
    "decode([42, 54, 61, 74, 65])"
   ]
  },
  {
   "cell_type": "code",
   "execution_count": 61,
   "metadata": {},
   "outputs": [
    {
     "name": "stdout",
     "output_type": "stream",
     "text": [
      "tensor([80,  1,  1, 28, 39, 42, 39, 44, 32, 49,  1, 25, 38, 28,  1, 44, 32, 29,\n",
      "         1, 47, 33, 50, 25, 42, 28,  1, 33, 38,  1, 39, 50,  0,  0,  1,  1, 26,\n",
      "        49,  0,  0,  1,  1, 36, 11,  1, 30, 42, 25, 38, 35,  1, 26, 25, 45, 37,\n",
      "         0,  0,  1,  1, 25, 45, 44, 32, 39, 42,  1, 39, 30,  1, 44, 32, 29,  1,\n",
      "        47, 33, 50, 25, 42, 28,  1, 39, 30,  1, 39, 50,  9,  1, 44, 32, 29,  1,\n",
      "        36, 25, 38, 28,  1, 39, 30,  1, 39, 50,  9,  1, 39, 50, 37, 25,  1, 39,\n",
      "        30,  1, 39, 50,  9,  1, 29, 44, 27, 11,  0,  0,  1,  1, 33, 36, 36, 45,\n",
      "        43, 44, 42, 25, 44, 29, 28,  1, 26, 49,  1, 34, 39, 32, 38,  1, 42, 11,\n",
      "         1, 38, 29, 33, 36, 36,  0,  0,  1,  1, 26, 39, 39, 35, 43,  1, 39, 30,\n",
      "         1, 47, 39, 38, 28, 29, 42,  1, 47, 33, 36, 36, 33, 25, 37,  1, 37, 39,\n",
      "        42, 42, 39, 47,  1,  4,  1, 27, 39, 11,  9,  1, 33, 38, 27, 11,  1, 38,\n",
      "        29, 47])\n"
     ]
    }
   ],
   "source": [
    "data = torch.tensor(encode(text),dtype = torch.long)\n",
    "print(data[:200])"
   ]
  },
  {
   "cell_type": "code",
   "execution_count": 62,
   "metadata": {},
   "outputs": [],
   "source": [
    "block_size = 8\n",
    "n=int(0.8*len(data))\n",
    "train_data = data[:n]\n",
    "val_data = data[n:]\n",
    "\n"
   ]
  },
  {
   "cell_type": "code",
   "execution_count": 63,
   "metadata": {},
   "outputs": [
    {
     "name": "stdout",
     "output_type": "stream",
     "text": [
      "when input is tensor([80]) target is tensor(1)\n",
      "when input is tensor([80,  1]) target is tensor(1)\n",
      "when input is tensor([80,  1,  1]) target is tensor(28)\n",
      "when input is tensor([80,  1,  1, 28]) target is tensor(39)\n",
      "when input is tensor([80,  1,  1, 28, 39]) target is tensor(42)\n",
      "when input is tensor([80,  1,  1, 28, 39, 42]) target is tensor(39)\n",
      "when input is tensor([80,  1,  1, 28, 39, 42, 39]) target is tensor(44)\n",
      "when input is tensor([80,  1,  1, 28, 39, 42, 39, 44]) target is tensor(32)\n"
     ]
    }
   ],
   "source": [
    "block_size = 8\n",
    "x = train_data[:block_size]\n",
    "y = train_data[1:block_size+1]\n",
    "\n",
    "\n",
    "for t in range(block_size):\n",
    "    contex = x[:t+1]\n",
    "    target = y[t]\n",
    "    print('when input is', contex,'target is',target)"
   ]
  },
  {
   "cell_type": "code",
   "execution_count": 72,
   "metadata": {},
   "outputs": [
    {
     "name": "stdout",
     "output_type": "stream",
     "text": [
      "inputs\n",
      "tensor([[73,  1, 76,  ..., 54,  1, 59],\n",
      "        [74, 71, 58,  ...,  1, 62, 73],\n",
      "        [68, 58, 72,  ..., 73, 61, 54],\n",
      "        ...,\n",
      "        [68, 67,  1,  ..., 71, 68, 76],\n",
      "        [58, 71, 58,  ..., 56, 68, 74],\n",
      "        [67,  1, 76,  ..., 66,  1, 54]])\n",
      "target\n",
      "tensor([[ 1, 76, 54,  ...,  1, 59, 62],\n",
      "        [71, 58, 64,  ..., 62, 73,  1],\n",
      "        [58, 72,  1,  ..., 61, 54, 73],\n",
      "        ...,\n",
      "        [67,  1, 73,  ..., 68, 76, 57],\n",
      "        [71, 58,  1,  ..., 68, 74, 67],\n",
      "        [ 1, 76, 61,  ...,  1, 54,  1]])\n"
     ]
    }
   ],
   "source": [
    "batch_size=32\n",
    "block_size = 128\n",
    "max_iter=1000\n",
    "# vocab_size=int(0.8*len(data))\n",
    "max_iters = 3000\n",
    "learning_rate = 3e-4\n",
    "eval_iters = 258\n",
    "vocab_size= len(chars)\n",
    "train_data = data[:n]\n",
    "val_data = data[n:]\n",
    "\n",
    "def get_batch(split):\n",
    "    data = train_data if split=='train' else val_data\n",
    "    ix = torch.randint(len(data)-block_size,(batch_size,))\n",
    "    \n",
    "    x = torch.stack([data[i:i+block_size] for i in ix])\n",
    "    y = torch.stack([data[i+1:i+block_size+1] for i in ix])\n",
    "    x,y = x.to(device),y.to(device)\n",
    "    return x,y\n",
    "\n",
    "x,y = get_batch('train')\n",
    "print('inputs')\n",
    "print(x)\n",
    "print('target')\n",
    "print(y)"
   ]
  },
  {
   "cell_type": "code",
   "execution_count": 73,
   "metadata": {},
   "outputs": [],
   "source": [
    "@torch.no_grad()\n",
    "def estimate_loss():\n",
    "    out = {}\n",
    "    model.eval()\n",
    "    for split in ['train','val']:\n",
    "        losses = torch.zeros(eval_iters)\n",
    "        for k in range(eval_iters):\n",
    "            X,Y = get_batch(split)\n",
    "            logits,loss = model(X,Y)\n",
    "            losses[k]=loss.item()\n",
    "        out[split]=losses.mean()\n",
    "    model.train()\n",
    "    return out"
   ]
  },
  {
   "cell_type": "code",
   "execution_count": 65,
   "metadata": {},
   "outputs": [],
   "source": [
    "class BigramLanguageModel(nn.Module):\n",
    "    def __init__(self,vocab_size):\n",
    "        super().__init__()\n",
    "        self.token_embedding_table = nn.Embedding(vocab_size,vocab_size)\n",
    "        self.vocab_size = vocab_size\n",
    "            \n",
    "    def forward(self,index,target=None):\n",
    "        logits = self.token_embedding_table(index)\n",
    "        \n",
    "        if target is None:\n",
    "            loss = None\n",
    "            \n",
    "        else:\n",
    "            B,T,C = logits.shape\n",
    "            logits = logits.view(B*T,C)\n",
    "            targets = target.view(B*T)\n",
    "            loss = F.cross_entropy(logits,targets) \n",
    "        return logits,loss\n",
    "    \n",
    "    def generate(self,index,max_tokens):\n",
    "        # index is (B,T) array of indices in contex\n",
    "        for _ in range(max_tokens):\n",
    "            # get the prediction\n",
    "            logits,loss = self.forward(index)\n",
    "            #focus only on last time stamp\n",
    "            logits =  logits[:,-1,:] #beacome (B, C)\n",
    "            #apply softmax to get probability\n",
    "            prob = F.softmax(logits, dim=-1)\n",
    "            #sample for distrubution minimum=1\n",
    "            index_next = torch.multinomial(prob,num_samples=1) #(0,1)\n",
    "            #append sample index to running index\n",
    "            index = torch.cat((index,index_next),dim=-1)\n",
    "            \n",
    "        return index\n",
    "        \n",
    "model = BigramLanguageModel(vocab_size)\n",
    "m = model.to(device)\n",
    "\n",
    "# context = torch.zeros((1,1),dtype=torch.long,device=device)\n",
    "# generate_char = decode(m.generate(contex,max_tokens=500)[0].tolist())\n",
    "# print(generate_char)\n"
   ]
  },
  {
   "cell_type": "code",
   "execution_count": 66,
   "metadata": {},
   "outputs": [
    {
     "name": "stdout",
     "output_type": "stream",
     "text": [
      "torch.Size([8, 81])\n"
     ]
    },
    {
     "data": {
      "text/plain": [
       "'ingr u\\ufeff[ix70aWt_\"HY?;&VN1phN9852hO_x[a1kaaor\\'_p))HZ]n;qGE4XJQOQxLgQ vp?Z&cwCCL8)6.nJ:c,p\\ufeffYKwK\\'3\\ufeffge bn*[e5W7g\\ufeffM&;1Dkd4kh-t\\ufeff0jNAFrPJ6.hNqSx4-4p!p\\')!R!3Mi1Fnn17W!fo1HE:hOS1\\'ACLxV_Lc0Kwa(5RWnX[*U\\ufeff\\':M?\\'Z.xnYOu&hd9Z]5:46Gh\\')oUvi;sGe[*n];rRZq[*3ojZh7JJMe5,65)Jtt;A1m\\nd:6qufC591wn?ifK1Luf\\'?B3n8Ho&KHLTUTM,C:MVr\\'Fvbl,[f96aG?yHQ?Go!Y;4gaYd\"k\\ncR1B1;:BNA&he;yCXB9uaL[i*nJ9 y]iKg(VIoN;;ALcR!CDyL\\ufeff2L&hy\\ncm!_iUZ!U4dzovpqcDI027gVO(7K\\ufeff.os23CHLx1UdG3Et5[.7.6oTrDG[R1Ag]?_euWe92Q8Jj5vJJQ&q1\\')Y*zzxW(c6u1aj:HfY2LHB.CzSTG!yFD2A'"
      ]
     },
     "execution_count": 66,
     "metadata": {},
     "output_type": "execute_result"
    }
   ],
   "source": [
    "        \n",
    "model = BigramLanguageModel(vocab_size)\n",
    "m = model.to(device)\n",
    "\n",
    "# context = torch.zeros((1,3),dtype=torch.long,device=device)\n",
    "\n",
    "# logist,loss = m.forward(contex)\n",
    "\n",
    "# logist[:,-1,:]\n",
    "context = torch.LongTensor([[62, 67, 60, 71, 1, 74]])\n",
    "\n",
    "logit=m.token_embedding_table(contex)\n",
    "print(logit.shape)\n",
    "index=m.generate(context,500)\n",
    "decode(index[0].tolist())\n",
    "\n"
   ]
  },
  {
   "cell_type": "code",
   "execution_count": 67,
   "metadata": {},
   "outputs": [
    {
     "name": "stdout",
     "output_type": "stream",
     "text": [
      "f:\\GenAI\\LLM_FROM_SCRATCH\\venv\\Lib\\site-packages\\torch\\__init__.py\n"
     ]
    }
   ],
   "source": [
    "print(torch.__file__)"
   ]
  },
  {
   "cell_type": "code",
   "execution_count": 78,
   "metadata": {},
   "outputs": [
    {
     "name": "stdout",
     "output_type": "stream",
     "text": [
      "step: 0, train loss: 4.852230072021484, val loss: 4.8716278076171875\n",
      "step: 258, train loss: 4.738840579986572, val loss: 4.754951477050781\n",
      "step: 516, train loss: 4.6255364418029785, val loss: 4.644659042358398\n",
      "step: 774, train loss: 4.5163726806640625, val loss: 4.535719871520996\n",
      "step: 1032, train loss: 4.412199974060059, val loss: 4.432003498077393\n",
      "step: 1290, train loss: 4.3087639808654785, val loss: 4.3291449546813965\n",
      "step: 1548, train loss: 4.211060523986816, val loss: 4.23232364654541\n",
      "step: 1806, train loss: 4.116181373596191, val loss: 4.138118267059326\n",
      "step: 2064, train loss: 4.025889873504639, val loss: 4.047524929046631\n",
      "step: 2322, train loss: 3.9367308616638184, val loss: 3.959258556365967\n",
      "step: 2580, train loss: 3.8526437282562256, val loss: 3.874993324279785\n",
      "step: 2838, train loss: 3.769577980041504, val loss: 3.7947838306427\n",
      "3.6897130012512207\n"
     ]
    }
   ],
   "source": [
    "\n",
    "\n",
    "optimizer = torch.optim.AdamW(model.parameters(),lr=learning_rate,weight_decay=0.01)\n",
    "\n",
    "\n",
    "for iter in range(max_iters):\n",
    "    if  iter % eval_iters==0:\n",
    "        losses = estimate_loss()\n",
    "        # print(losses)\n",
    "        print(f'step: {iter}, train loss: {losses[\"train\"]}, val loss: {losses[\"val\"]}')\n",
    "    #sample bacth of data\n",
    "    xb,yb = get_batch('train')\n",
    "    # print(xb)\n",
    "    logits = model.token_embedding_table(xb)\n",
    "    # print(logits.shape)\n",
    "    #evalute the loss\n",
    "    logits,loss = model.forward(xb,yb)\n",
    "    optimizer.zero_grad(set_to_none = True)\n",
    "    loss.backward()\n",
    "    optimizer.step()\n",
    "    \n",
    "print(loss.item())"
   ]
  },
  {
   "cell_type": "code",
   "execution_count": 69,
   "metadata": {},
   "outputs": [
    {
     "name": "stdout",
     "output_type": "stream",
     "text": [
      "2.2.1+cpu\n"
     ]
    }
   ],
   "source": [
    "print(torch.__version__)"
   ]
  },
  {
   "cell_type": "code",
   "execution_count": 71,
   "metadata": {},
   "outputs": [
    {
     "data": {
      "text/plain": [
       "'\\n\\n\\nfO\\ufeff\\'aPVqn_Z3q,rgurFChA,Ip6Pe8O&;sAdAVY?zX-fn_M8X::Jf9]ILTm4pG!Z\\'rEfRdWyU*o38H? V!LWos26jZL4-.Z(TVzR1UZ:4?7I9Ifn\\ufeffq3lW\"6A VI \\ufeff\\'9\\ufeffQ!Z X0**os8vJn73ZQ!B*gV!0G7rur_i;&o!3!0e2!BlyHXScmo13x0SAyfu8nMb)LHOrp*YVY(T_Z;;RyFX56G\\nb7YB*KJZQnq5ei\"\\n38\\ufeff[*U8nv(fcQf21C xt]DP6JTmxWo(_2P\\ny:BOsd&B&*s)6qa6\\'J[f;iuo\\'S\"YKwKODQ8R1(aS\\nY?Q-HZ_FKH84-7_\"jcw3,l7W_9En&\\'?pTvAvI Lfz]\\nv*3cDgNVV9q)WPTvOG?u\\nf;EqEDp1;uXg4p4C.O_zVO\\')Jd0\\njYX\\nm6L,fHO\\ufeffl&t:zLa x8sp 4-t\\ufeffDZI7J6GckwR1)Mz;16jhy\\ne[3em?DLq9]B1gFZDk2:NPJdX!NAd)WKmOx,9.ohOJp_Zqur\\':'"
      ]
     },
     "execution_count": 71,
     "metadata": {},
     "output_type": "execute_result"
    }
   ],
   "source": [
    "index = torch.zeros((2,3),dtype=torch.long)\n",
    "\n",
    "t=decode(m.generate(index,500)[0].tolist())\n",
    "# decode(t[0].tolist())\n",
    "t"
   ]
  },
  {
   "cell_type": "code",
   "execution_count": null,
   "metadata": {},
   "outputs": [],
   "source": []
  }
 ],
 "metadata": {
  "kernelspec": {
   "display_name": "venv",
   "language": "python",
   "name": "python3"
  },
  "language_info": {
   "codemirror_mode": {
    "name": "ipython",
    "version": 3
   },
   "file_extension": ".py",
   "mimetype": "text/x-python",
   "name": "python",
   "nbconvert_exporter": "python",
   "pygments_lexer": "ipython3",
   "version": "3.11.7"
  }
 },
 "nbformat": 4,
 "nbformat_minor": 2
}
