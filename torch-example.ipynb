{
 "cells": [
  {
   "cell_type": "code",
   "execution_count": 20,
   "metadata": {},
   "outputs": [],
   "source": [
    "import torch\n",
    "import numpy as np"
   ]
  },
  {
   "cell_type": "code",
   "execution_count": 21,
   "metadata": {},
   "outputs": [
    {
     "data": {
      "text/plain": [
       "tensor([ 61, -28,  34, -20,  95,  93])"
      ]
     },
     "execution_count": 21,
     "metadata": {},
     "output_type": "execute_result"
    }
   ],
   "source": [
    "torch.randint(-100,100,(6,))\n"
   ]
  },
  {
   "cell_type": "code",
   "execution_count": 22,
   "metadata": {},
   "outputs": [
    {
     "data": {
      "text/plain": [
       "tensor([[0.1000, 0.2000, 0.3000],\n",
       "        [0.3000, 0.4000, 0.5000],\n",
       "        [0.7000, 0.1000, 0.2000]])"
      ]
     },
     "execution_count": 22,
     "metadata": {},
     "output_type": "execute_result"
    }
   ],
   "source": [
    "torch.tensor([[0.1,0.2,0.3],[0.3,0.4,0.5],[0.7,0.1,0.2]])"
   ]
  },
  {
   "cell_type": "code",
   "execution_count": 23,
   "metadata": {},
   "outputs": [
    {
     "data": {
      "text/plain": [
       "tensor([[0., 0.],\n",
       "        [0., 0.],\n",
       "        [0., 0.]])"
      ]
     },
     "execution_count": 23,
     "metadata": {},
     "output_type": "execute_result"
    }
   ],
   "source": [
    "\n",
    "torch.zeros(3,2)"
   ]
  },
  {
   "cell_type": "code",
   "execution_count": 24,
   "metadata": {},
   "outputs": [
    {
     "data": {
      "text/plain": [
       "tensor([[1., 1., 1., 1.],\n",
       "        [1., 1., 1., 1.],\n",
       "        [1., 1., 1., 1.]])"
      ]
     },
     "execution_count": 24,
     "metadata": {},
     "output_type": "execute_result"
    }
   ],
   "source": [
    "torch.ones(3,4)"
   ]
  },
  {
   "cell_type": "code",
   "execution_count": 25,
   "metadata": {},
   "outputs": [
    {
     "data": {
      "text/plain": [
       "tensor([[0., 0., 0.],\n",
       "        [0., 0., 0.]])"
      ]
     },
     "execution_count": 25,
     "metadata": {},
     "output_type": "execute_result"
    }
   ],
   "source": [
    "torch.empty(2,3)"
   ]
  },
  {
   "cell_type": "code",
   "execution_count": 26,
   "metadata": {},
   "outputs": [
    {
     "data": {
      "text/plain": [
       "tensor([0, 1, 2, 3, 4])"
      ]
     },
     "execution_count": 26,
     "metadata": {},
     "output_type": "execute_result"
    }
   ],
   "source": [
    "torch.arange(5)"
   ]
  },
  {
   "cell_type": "code",
   "execution_count": 27,
   "metadata": {},
   "outputs": [
    {
     "data": {
      "text/plain": [
       "tensor([ 3.0000,  4.7500,  6.5000,  8.2500, 10.0000])"
      ]
     },
     "execution_count": 27,
     "metadata": {},
     "output_type": "execute_result"
    }
   ],
   "source": [
    "torch.linspace(3,10,steps=5)"
   ]
  },
  {
   "cell_type": "code",
   "execution_count": 28,
   "metadata": {},
   "outputs": [
    {
     "data": {
      "text/plain": [
       "tensor([1.0000e-10, 1.0000e-05, 1.0000e+00, 1.0000e+05, 1.0000e+10])"
      ]
     },
     "execution_count": 28,
     "metadata": {},
     "output_type": "execute_result"
    }
   ],
   "source": [
    "torch.logspace(-10,10,5)"
   ]
  },
  {
   "cell_type": "code",
   "execution_count": 29,
   "metadata": {},
   "outputs": [
    {
     "data": {
      "text/plain": [
       "tensor([[1., 0., 0., 0., 0.],\n",
       "        [0., 1., 0., 0., 0.],\n",
       "        [0., 0., 1., 0., 0.],\n",
       "        [0., 0., 0., 1., 0.],\n",
       "        [0., 0., 0., 0., 1.]])"
      ]
     },
     "execution_count": 29,
     "metadata": {},
     "output_type": "execute_result"
    }
   ],
   "source": [
    "torch.eye(5)"
   ]
  },
  {
   "cell_type": "code",
   "execution_count": 30,
   "metadata": {},
   "outputs": [
    {
     "data": {
      "text/plain": [
       "tensor([[4489188110458735821, 4510805389542529434, 4539628425443069133],\n",
       "        [4453159313463259955,          1045220557,                   0]])"
      ]
     },
     "execution_count": 30,
     "metadata": {},
     "output_type": "execute_result"
    }
   ],
   "source": [
    "torch.empty((2,3),dtype=torch.int64)"
   ]
  },
  {
   "cell_type": "code",
   "execution_count": 41,
   "metadata": {},
   "outputs": [
    {
     "name": "stdout",
     "output_type": "stream",
     "text": [
      "tensor([1, 1, 0, 1, 0, 1, 1, 1, 1, 1])\n"
     ]
    }
   ],
   "source": [
    "prob = torch.tensor([0.1,0.9])\n",
    "\n",
    "sample = torch.multinomial(prob,num_samples=10,replacement=True)\n",
    "\n",
    "print(sample)"
   ]
  },
  {
   "cell_type": "code",
   "execution_count": 42,
   "metadata": {},
   "outputs": [
    {
     "data": {
      "text/plain": [
       "tensor([1, 2, 3, 4, 5])"
      ]
     },
     "execution_count": 42,
     "metadata": {},
     "output_type": "execute_result"
    }
   ],
   "source": [
    "tensor = torch.tensor([1,2,3,4])\n",
    "out = torch.cat((tensor,torch.tensor([5])),dim=0)\n",
    "out"
   ]
  },
  {
   "cell_type": "code",
   "execution_count": 43,
   "metadata": {},
   "outputs": [
    {
     "data": {
      "text/plain": [
       "tensor([[1., 0., 0., 0., 0.],\n",
       "        [1., 1., 0., 0., 0.],\n",
       "        [1., 1., 1., 0., 0.],\n",
       "        [1., 1., 1., 1., 0.],\n",
       "        [1., 1., 1., 1., 1.]])"
      ]
     },
     "execution_count": 43,
     "metadata": {},
     "output_type": "execute_result"
    }
   ],
   "source": [
    "out = torch.tril(torch.ones(5,5))\n",
    "out"
   ]
  },
  {
   "cell_type": "code",
   "execution_count": 44,
   "metadata": {},
   "outputs": [
    {
     "data": {
      "text/plain": [
       "tensor([[1., 1., 1.],\n",
       "        [0., 1., 1.],\n",
       "        [0., 0., 1.]])"
      ]
     },
     "execution_count": 44,
     "metadata": {},
     "output_type": "execute_result"
    }
   ],
   "source": [
    "out = torch.triu(torch.ones(3,3))\n",
    "out"
   ]
  },
  {
   "cell_type": "code",
   "execution_count": 54,
   "metadata": {},
   "outputs": [
    {
     "data": {
      "text/plain": [
       "tensor([[0., -inf, -inf, -inf, -inf],\n",
       "        [0., 0., -inf, -inf, -inf],\n",
       "        [0., 0., 0., -inf, -inf],\n",
       "        [0., 0., 0., 0., -inf],\n",
       "        [0., 0., 0., 0., 0.]])"
      ]
     },
     "execution_count": 54,
     "metadata": {},
     "output_type": "execute_result"
    }
   ],
   "source": [
    "out = torch.zeros(5,5).masked_fill((torch.tril(torch.ones(5,5)))==0,float('-inf'))\n",
    "out"
   ]
  },
  {
   "cell_type": "code",
   "execution_count": 55,
   "metadata": {},
   "outputs": [
    {
     "data": {
      "text/plain": [
       "tensor([[1., 0., 0., 0., 0.],\n",
       "        [1., 1., 0., 0., 0.],\n",
       "        [1., 1., 1., 0., 0.],\n",
       "        [1., 1., 1., 1., 0.],\n",
       "        [1., 1., 1., 1., 1.]])"
      ]
     },
     "execution_count": 55,
     "metadata": {},
     "output_type": "execute_result"
    }
   ],
   "source": [
    "torch.exp(out)"
   ]
  },
  {
   "cell_type": "code",
   "execution_count": 58,
   "metadata": {},
   "outputs": [
    {
     "data": {
      "text/plain": [
       "torch.Size([4, 3, 2])"
      ]
     },
     "execution_count": 58,
     "metadata": {},
     "output_type": "execute_result"
    }
   ],
   "source": [
    "out = torch.zeros(2,3,4)\n",
    "out=out.transpose(0,2)\n",
    "out.shape"
   ]
  },
  {
   "cell_type": "code",
   "execution_count": 60,
   "metadata": {},
   "outputs": [
    {
     "data": {
      "text/plain": [
       "tensor([[1, 2, 3],\n",
       "        [1, 5, 3],\n",
       "        [2, 3, 7]])"
      ]
     },
     "execution_count": 60,
     "metadata": {},
     "output_type": "execute_result"
    }
   ],
   "source": [
    "tensor1 = torch.tensor([1,2,3])\n",
    "tensor2 = torch.tensor([1,5,3])\n",
    "tensor3 = torch.tensor([2,3,7])\n",
    "\n",
    "out = torch.stack([tensor1,tensor2,tensor3])\n",
    "out\n"
   ]
  },
  {
   "cell_type": "code",
   "execution_count": 61,
   "metadata": {},
   "outputs": [
    {
     "data": {
      "text/plain": [
       "tensor([-11.2964,   2.2236,   1.9770], grad_fn=<SqueezeBackward4>)"
      ]
     },
     "execution_count": 61,
     "metadata": {},
     "output_type": "execute_result"
    }
   ],
   "source": [
    "import torch.nn as nn\n",
    "sample = torch.tensor([10.,10.,10.])\n",
    "liner = nn.Linear(3,3,bias=False)\n",
    "liner(sample)"
   ]
  },
  {
   "cell_type": "code",
   "execution_count": 65,
   "metadata": {},
   "outputs": [
    {
     "data": {
      "text/plain": [
       "tensor([0.0900, 0.2447, 0.6652])"
      ]
     },
     "execution_count": 65,
     "metadata": {},
     "output_type": "execute_result"
    }
   ],
   "source": [
    "import torch.nn.functional as F\n",
    "\n",
    "tensor = torch.tensor([1.,2.,3.])\n",
    "\n",
    "F.softmax(tensor,dim=0)"
   ]
  },
  {
   "cell_type": "code",
   "execution_count": 66,
   "metadata": {},
   "outputs": [
    {
     "data": {
      "text/plain": [
       "torch.Size([4, 100])"
      ]
     },
     "execution_count": 66,
     "metadata": {},
     "output_type": "execute_result"
    }
   ],
   "source": [
    "vocab_size = 1000\n",
    "dim=100\n",
    "\n",
    "embeding = nn.Embedding(vocab_size,dim)\n",
    "\n",
    "input_indice = torch.tensor([1,2,3,4])\n",
    "\n",
    "out_emb = embeding(input_indice)\n",
    "\n",
    "out_emb.shape\n"
   ]
  },
  {
   "cell_type": "code",
   "execution_count": 67,
   "metadata": {},
   "outputs": [
    {
     "data": {
      "text/plain": [
       "tensor([[ 0.2473, -0.8188, -0.0365,  0.3115,  1.0104,  1.1856,  0.2171, -0.9139,\n",
       "         -0.4285,  0.2134, -0.8165,  0.6592, -0.9285,  0.8515, -0.2524,  1.1245,\n",
       "          0.1055,  0.2588, -2.0427, -0.6450,  0.7107,  0.4082, -0.3593,  0.2778,\n",
       "         -0.7166,  0.4901,  0.1014,  0.5316,  0.8068, -0.3304,  0.0452, -0.3082,\n",
       "          2.4677, -1.2330, -0.4255, -1.3756, -0.1311, -1.6461, -0.1878, -2.6195,\n",
       "          1.7629, -0.8837, -1.0045,  0.5958,  0.9036, -1.7389, -0.4531, -0.6396,\n",
       "          1.5171, -0.9283,  0.1504, -1.9891, -1.3113, -2.5463, -1.2092, -1.8916,\n",
       "         -1.6892,  1.7225, -0.6239, -0.6728,  1.1663, -0.5597,  0.2141,  0.4311,\n",
       "         -1.1724, -1.2260,  0.7720, -1.2835, -2.1890,  0.3807,  0.0251,  1.0551,\n",
       "          0.0216,  1.0421,  0.2509, -0.3336, -0.2403,  0.0343,  0.9415,  0.1597,\n",
       "          1.2200,  0.5839,  0.2128,  0.5678,  0.5247, -1.1692,  0.1252, -0.6780,\n",
       "          0.6288,  0.5297,  0.5671, -1.2827,  1.1275,  0.4883,  1.0032, -0.4612,\n",
       "         -1.1944, -0.7176, -1.7772, -0.5973],\n",
       "        [ 0.4247,  1.2930, -0.5153, -1.4610,  0.9715, -0.9108, -1.6662,  0.6401,\n",
       "          1.3404,  0.5878,  0.5587,  0.3728, -0.7967,  1.1530, -1.8233, -1.0106,\n",
       "         -1.6422,  0.5210,  1.1854, -0.1206, -0.5050, -0.1706, -1.2304,  0.9095,\n",
       "          1.0103,  0.6730, -1.0278, -0.4349, -0.1147, -0.9558, -0.2955,  1.1144,\n",
       "         -0.0674, -1.0666,  0.1413, -0.9136,  0.0946, -0.5155, -2.8224,  0.9767,\n",
       "          1.1656,  0.8177,  0.4490, -0.1201, -1.1102, -1.2220, -0.6784,  0.6448,\n",
       "          1.8558,  1.4447,  1.8745,  1.2890,  1.4739, -0.9215,  0.7985, -0.9677,\n",
       "          1.1897,  0.1186,  0.4512, -0.7318,  2.4614,  1.7636,  0.8243, -2.1267,\n",
       "          0.3414,  0.3613, -0.3478,  0.1360,  0.0296, -1.0752, -0.5607, -0.4604,\n",
       "          0.2402, -0.5507,  1.8264,  2.3302,  0.4264, -0.7262,  0.9009,  0.1677,\n",
       "         -0.7469,  0.2448, -0.5804,  0.7183,  0.4532,  1.1692, -0.0894, -0.0379,\n",
       "          0.9097, -0.8249, -0.9245, -0.6975,  0.5760, -0.7041,  0.3157,  0.6214,\n",
       "          0.7344, -0.7659,  0.2534,  0.6880],\n",
       "        [ 0.7438,  0.2188,  0.7154, -0.3643,  0.7774, -0.1528, -0.0606,  0.1708,\n",
       "         -1.2089, -0.3889, -1.8148, -0.4281, -0.9456,  0.3448,  0.1023, -0.0887,\n",
       "         -0.6673, -1.4285, -1.7159,  0.5074, -0.8302,  0.3381, -0.7149,  1.0997,\n",
       "         -0.3074,  0.5723, -0.6946, -1.0216, -0.1082,  0.1261, -1.4166,  0.2924,\n",
       "          0.4088,  0.5694,  1.8849, -0.7379, -0.4558, -1.3042,  0.1563,  0.5818,\n",
       "         -0.8920, -0.9365,  0.0921,  1.3338,  1.3748, -0.3058,  1.2383,  0.6269,\n",
       "          0.4691, -0.1579,  0.3040, -0.3944,  0.0758, -0.9460, -0.3381,  0.0082,\n",
       "          0.8620,  0.3605, -1.2842, -0.1266, -0.8096, -1.0699,  1.0250, -0.6974,\n",
       "          0.3692, -0.4291, -1.4967, -0.5347, -0.9621, -1.8786, -0.5785, -0.7518,\n",
       "         -0.2697, -0.0687,  0.5912, -0.2111,  0.2220, -0.4248, -0.2101,  1.1454,\n",
       "         -0.1152,  0.9346,  0.0398,  0.1122,  0.5563, -0.4602, -1.1045,  0.1217,\n",
       "          1.8383,  0.1190, -0.5739, -0.6642, -0.4607, -1.5271, -0.5392,  0.6237,\n",
       "          1.7401,  1.4814, -0.1935,  0.0232],\n",
       "        [ 0.3821,  2.6772,  0.6248, -0.3110, -1.5832,  0.1461, -0.7178, -0.5628,\n",
       "          0.5944,  0.5684, -0.0094, -0.4980,  1.0700, -1.1521, -0.3500,  1.5632,\n",
       "         -0.6108,  0.0288, -0.2314, -1.0276, -2.0176,  0.7127,  2.1400,  1.4832,\n",
       "          0.6907,  0.2169, -0.4059, -0.6319, -0.4621,  0.7942, -0.6029,  0.9928,\n",
       "          1.4783,  0.3431, -0.2632, -0.9254,  1.4595, -0.9254, -0.9200,  0.9992,\n",
       "          0.0984,  0.2992,  1.0204,  0.0668,  0.3687, -0.8106,  1.5813, -0.7257,\n",
       "         -2.0266, -0.2671, -1.9304,  0.0940,  0.7181, -0.8517,  1.7834,  1.0590,\n",
       "          1.6836, -0.9736, -0.8327, -1.3795,  1.8949, -0.5567,  1.4502,  0.5243,\n",
       "         -1.0615,  1.2936, -0.4306,  1.6897, -2.9395,  0.1781, -0.0147,  0.3141,\n",
       "         -0.2874,  1.6278, -0.7329, -2.0502, -0.8786, -0.1743, -1.6944,  0.4139,\n",
       "          0.6474,  1.1332,  0.5187, -0.2136,  0.1298,  1.0467, -1.3657, -0.4214,\n",
       "         -0.4879,  1.0966, -0.6007, -0.5993,  0.3712,  0.1699,  0.1846,  1.0118,\n",
       "         -2.4373,  0.3862, -0.4816, -0.5665]], grad_fn=<EmbeddingBackward0>)"
      ]
     },
     "execution_count": 67,
     "metadata": {},
     "output_type": "execute_result"
    }
   ],
   "source": [
    "out_emb\n"
   ]
  },
  {
   "cell_type": "code",
   "execution_count": null,
   "metadata": {},
   "outputs": [],
   "source": []
  }
 ],
 "metadata": {
  "kernelspec": {
   "display_name": "venv",
   "language": "python",
   "name": "python3"
  },
  "language_info": {
   "codemirror_mode": {
    "name": "ipython",
    "version": 3
   },
   "file_extension": ".py",
   "mimetype": "text/x-python",
   "name": "python",
   "nbconvert_exporter": "python",
   "pygments_lexer": "ipython3",
   "version": "3.11.7"
  }
 },
 "nbformat": 4,
 "nbformat_minor": 2
}
