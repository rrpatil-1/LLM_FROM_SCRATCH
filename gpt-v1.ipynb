{
 "cells": [
  {
   "cell_type": "code",
   "execution_count": null,
   "metadata": {},
   "outputs": [],
   "source": [
    "import torch\n",
    "import torch.nn as nn\n",
    "import torch.nn.functional as F\n",
    "device = 'cuda' if torch.cuda.is_available() else 'cpu'\n",
    "print(device)"
   ]
  },
  {
   "cell_type": "markdown",
   "metadata": {},
   "source": [
    "# train data preparation"
   ]
  },
  {
   "cell_type": "code",
   "execution_count": null,
   "metadata": {},
   "outputs": [],
   "source": [
    "with open('wizard_of_oz.txt','r',encoding='utf-8') as f:\n",
    "    text = f.read()\n",
    "    \n",
    "chars = sorted(set(text))\n",
    "print(chars)\n",
    "print(len(chars))\n"
   ]
  },
  {
   "cell_type": "markdown",
   "metadata": {},
   "source": [
    "# set the parameters for training"
   ]
  },
  {
   "cell_type": "code",
   "execution_count": null,
   "metadata": {},
   "outputs": [],
   "source": [
    "block_size = 128\n",
    "batch_size = 32\n",
    "max_iter=1000\n",
    "max_iters = 3000\n",
    "learning_rate = 3e-4\n",
    "eval_iters = 258\n",
    "n_embd = 384\n",
    "n_layers = 4\n",
    "n_head = 4\n",
    "dropout=0.2\n",
    "vocab_size = len(chars)"
   ]
  },
  {
   "cell_type": "markdown",
   "metadata": {},
   "source": [
    "# encoder and decoder for text data"
   ]
  },
  {
   "cell_type": "code",
   "execution_count": null,
   "metadata": {},
   "outputs": [],
   "source": [
    "string_to_int = {ch:i for i,ch in enumerate(chars)}\n",
    "\n",
    "int_to_string = { i:ch for i,ch in enumerate(chars)}\n",
    "\n",
    "encode = lambda s: [string_to_int[ch] for ch in s]\n",
    "\n",
    "decode = lambda s: ''.join(int_to_string[i] for i in s)"
   ]
  },
  {
   "cell_type": "code",
   "execution_count": null,
   "metadata": {},
   "outputs": [],
   "source": [
    "encode('rahul')"
   ]
  },
  {
   "cell_type": "code",
   "execution_count": null,
   "metadata": {},
   "outputs": [],
   "source": [
    "decode([71, 54, 61, 74, 65])"
   ]
  },
  {
   "cell_type": "markdown",
   "metadata": {},
   "source": [
    "# convert text data to tensor vector"
   ]
  },
  {
   "cell_type": "code",
   "execution_count": null,
   "metadata": {},
   "outputs": [],
   "source": [
    "data = torch.tensor(encode(text),dtype=torch.long)"
   ]
  },
  {
   "cell_type": "markdown",
   "metadata": {},
   "source": [
    "# split train and test data 80-20 rule "
   ]
  },
  {
   "cell_type": "code",
   "execution_count": null,
   "metadata": {},
   "outputs": [],
   "source": [
    "n=int(0.8*len(data))\n",
    "train_data = data[:n]\n",
    "val_data = data[n:]\n",
    "def get_batch(split):\n",
    "    data = train_data if split =='train' else val_data\n",
    "    ix = torch.randint(len(data)-block_size,(batch_size,))\n",
    "    \n",
    "    x = torch.stack([data[i:i+block_size] for i in ix])\n",
    "    y = torch.stack([data[i+1:i+block_size+1] for i in ix])\n",
    "    \n",
    "    x,y = x.to(device),y.to(device)\n",
    "    return x,y"
   ]
  },
  {
   "cell_type": "code",
   "execution_count": null,
   "metadata": {},
   "outputs": [],
   "source": [
    "class Head(nn.Module):\n",
    "      \"\"\" one head of self-attention \"\"\"\n",
    "      \n",
    "      def __init__(self,head_size):\n",
    "           super().__init__()\n",
    "           self.key = nn.Linear(n_embd,head_size,bias = False)\n",
    "           self.value = nn.Linear(n_embd,head_size,bias=False)\n",
    "           self.query = nn.Linear(n_embd,head_size,bias=False)\n",
    "           self.register_buffer('tril',torch.tril(torch.ones(block_size,block_size)))\n",
    "           self.dropout = nn.Dropout(dropout)\n",
    "           \n",
    "      def forward(self,x):\n",
    "        # input of size (batch, time-step, channels)\n",
    "        # output of size (batch, time-step, head size)   \n",
    "        B,T,C = x.shape\n",
    "        \n",
    "        k = self.key(x) # (B, T, hs)\n",
    "        q = self.query(x) # (B,T,hs)\n",
    "        \n",
    "        # compute attention scores (\"affinities\")\n",
    "        wei = q @ k.transpose(-2,-1)*k.shape[-1]**0.5 # (B, T, hs) @ (B, hs, T) -> (B, T, T)\n",
    "        wei = wei.masked_fill(self.tril[:T,:T]==0,float('-inf')) # (B, T, T)\n",
    "        wei = F.softmax(wei,dim=-1) # (B, T, T)\n",
    "        wei = self.dropout(wei)\n",
    "        \n",
    "        # perform the weighted aggregation of the values\n",
    "        v = self.value(x)  # (B,T,hs)\n",
    "        out = wei @ v # (B, T, T) @ (B, T, hs) -> (B, T, hs)\n",
    "        return out\n",
    "\n",
    "\n",
    "# [1, 0, 0]\n",
    "# [1, 0.6, 0]\n",
    "# [1, 0.6, 0.4]\n",
    "class MultiHeadAttention(nn.Module):\n",
    "     \"\"\" multiple heads of self-attention in parallel \"\"\"\n",
    "     def __init__(self,num_head,head_size):\n",
    "          super().__init__()\n",
    "          self.heads = nn.ModuleList([Head(head_size) for _ in range(num_head)])\n",
    "          self.proj = nn.Linear(head_size*num_head,n_embd)\n",
    "          self.dropout = nn.Dropout(dropout)\n",
    "          \n",
    "     def forward(self,x):\n",
    "         out = torch.cat([h(x) for h in self.heads],dim=-1) # (B,T,F)-->(B,T,[h1, h1, h1 h1, h2, h2, h2, h2])\n",
    "         out = self.dropout(self.proj(out))\n",
    "         return out\n",
    "\n",
    "\n",
    "\n",
    "class FeedForward(nn.Module):\n",
    "    \"\"\" a simple linear layer followed by a non-linearity \"\"\"\n",
    "    def __init__(self,n_embd):\n",
    "         super().__init__()\n",
    "         self.net = nn.Sequential(\n",
    "             nn.Linear(n_embd,4*n_embd),\n",
    "             nn.ReLU(),\n",
    "             nn.Linear(4*n_embd,n_embd),\n",
    "             nn.Dropout(dropout),\n",
    "         )\n",
    "         \n",
    "    def forward(self,x):\n",
    "        return self.net(x)\n",
    "\n",
    "\n",
    "\n",
    "class Block(nn.Module):\n",
    "       \"\"\" Transformer block: communication followed by computation \"\"\"\n",
    "       def __init__(self,n_embd,n_head):\n",
    "        # n_embd: embedding dimension, n_head: the number of heads we'd like\n",
    "            super().__init__()\n",
    "            head_size = n_embd//n_head\n",
    "            self.sa = MultiHeadAttention(n_head,head_size)\n",
    "            self.ffwd = FeedForward(n_embd)\n",
    "            self.ln1 = nn.LayerNorm(n_embd)\n",
    "            self.ln2 = nn.LayerNorm(n_embd)\n",
    "            \n",
    "       def forward(self,x):\n",
    "           y = self.sa(x)\n",
    "           \n",
    "           x =self.ln1(x+y)\n",
    "           y = self.ffwd(x)\n",
    "           #print(print(x.shape,y.shape))\n",
    "           x = self.ln2(x+y)\n",
    "           \n",
    "           return x\n",
    "        \n",
    "        "
   ]
  },
  {
   "cell_type": "code",
   "execution_count": null,
   "metadata": {},
   "outputs": [],
   "source": [
    "class GPTLanguageModel(nn.Module):\n",
    "    def __init__(self, vocab_size):\n",
    "        super().__init__()\n",
    "        self.token_embedding_table = nn.Embedding(vocab_size,n_embd)\n",
    "        self.position_embeding_table = nn.Embedding(block_size,n_embd)\n",
    "        self.blocks = nn.Sequential(*[Block(n_embd,n_head=n_head) for _ in range(n_layers)])\n",
    "        self.ln_f = nn.LayerNorm(n_embd)\n",
    "        self.lm_head = nn.Linear(n_embd,vocab_size)\n",
    "        \n",
    "        \n",
    "        self.apply(self._init_weights)\n",
    "        \n",
    "    def _init_weights(self,module):\n",
    "        if isinstance(module,nn.Linear):\n",
    "            torch.nn.init.normal_(module.weight,mean=0.0,std=0.02)\n",
    "            if module.bias is not None:\n",
    "                torch.nn.init.zeros_(module.bias)\n",
    "        elif isinstance(module,nn.Embedding):\n",
    "            torch.nn.init.normal_(module.weight,mean=0.0,std=0.02)\n",
    "        \n",
    "    def forward(self,index,target = None):\n",
    "        B,T = index.shape\n",
    "        # print(B,T)\n",
    "\n",
    "        # idx and targets are both (B,T) tensor of integers\n",
    "        tok_emb = self.token_embedding_table(index) # (B,T,C)\n",
    "        \n",
    "        pos_emb = self.position_embeding_table(torch.arange(T,device = device)) # (T,C)\n",
    "        # print(tok_emb.shape,pos_emb.shape)\n",
    "        \n",
    "        x = tok_emb + pos_emb  # (B,T,C)\n",
    "        # print(x.shape)\n",
    "        \n",
    "        x = self.blocks(x) # (B,T,C)\n",
    "        x = self.ln_f(x) # (B,T,C)\n",
    "        \n",
    "        logits = self.lm_head(x) # (B,T,vocal_size)\n",
    "        \n",
    "        if target is None:\n",
    "            loss = None\n",
    "            \n",
    "        else:\n",
    "            B,T,C = logits.shape\n",
    "            logits = logits.view(B*T,C)\n",
    "            target = target.view(B*T)\n",
    "            loss = F.cross_entropy(logits,target)\n",
    "            \n",
    "        return logits,loss\n",
    "    \n",
    "    def generate(self,index,max_new_token):\n",
    "        \n",
    "        # index is (B, T) array of indices in the current context\n",
    "        for _ in range(max_new_token):\n",
    "            # crop idx to the last block_size tokens\n",
    "            index_cond = index[:,-block_size:]\n",
    "             # get the predictions\n",
    "            logits,loss = self.forward(index_cond)\n",
    "            # focus only on the last time step\n",
    "            logits = logits[:,-1,:] # becomes (B, C)\n",
    "            \n",
    "            # apply softmax to get probabilities\n",
    "            prob = F.softmax(logits,dim=-1) # (B, C)\n",
    "            # sample from the distribution\n",
    "            index_next = torch.multinomial(prob,num_samples=1) # (B, 1)\n",
    "            # append sampled index to the running sequence\n",
    "            index = torch.cat((index,index_next),dim=1)\n",
    "        return index\n",
    "    \n",
    "    \n",
    "# index = torch.tensor([[1,2,3,5,6,7],[4,5,6,7,8,8]],device=device)\n",
    "# print(index.shape)\n",
    "    \n",
    "model = GPTLanguageModel(vocab_size)\n",
    "# print('loading model parameters...')\n",
    "# with open('model-01.pkl', 'rb') as f:\n",
    "#     model = pickle.load(f)\n",
    "# print('loaded successfully!')\n",
    "m = model.to(device)\n"
   ]
  },
  {
   "cell_type": "code",
   "execution_count": null,
   "metadata": {},
   "outputs": [],
   "source": [
    "@torch.no_grad\n",
    "\n",
    "def estimate_loss():\n",
    "    out ={}\n",
    "    model.eval()\n",
    "    for split in ['train','val']:\n",
    "        losses = torch.zeros(eval_iters)\n",
    "        for k in range(eval_iters):\n",
    "            X,Y = get_batch(split)\n",
    "            logits,loss = model(X,Y)\n",
    "            losses[k]= loss.item()\n",
    "        out[split] = losses.mean()\n",
    "    model.train()\n",
    "    return out    "
   ]
  },
  {
   "cell_type": "code",
   "execution_count": null,
   "metadata": {},
   "outputs": [],
   "source": [
    "# create a PyTorch optimizer\n",
    "optimizer = torch.optim.AdamW(model.parameters(),lr=learning_rate)\n",
    "\n",
    "for iters in range(max_iter):\n",
    "    print(iters)\n",
    "    if iters%eval_iters==0:\n",
    "        losses= estimate_loss()\n",
    "        print(f\"step: {iters}, train loss: {losses['train']:.3f}, val loss: {losses['val']:.3f}\")\n",
    "    xb,yb = get_batch('train')\n",
    "    \n",
    "    #evalute losses\n",
    "    logits,loss = model.forward(xb,yb)\n",
    "    optimizer.zero_grad(set_to_none=True)\n",
    "    loss.backward()\n",
    "    optimizer.step()\n",
    "print(loss.item())\n"
   ]
  },
  {
   "cell_type": "code",
   "execution_count": null,
   "metadata": {},
   "outputs": [],
   "source": [
    "prompt = 'Hello! Can you see me?'\n",
    "context = torch.tensor(encode(prompt), dtype=torch.long, device=device)\n",
    "generated_chars = decode(m.generate(context.unsqueeze(0),100)[0].tolist())\n",
    "print(generated_chars)"
   ]
  }
 ],
 "metadata": {
  "kernelspec": {
   "display_name": "venv",
   "language": "python",
   "name": "python3"
  },
  "language_info": {
   "codemirror_mode": {
    "name": "ipython",
    "version": 3
   },
   "file_extension": ".py",
   "mimetype": "text/x-python",
   "name": "python",
   "nbconvert_exporter": "python",
   "pygments_lexer": "ipython3",
   "version": "3.11.7"
  }
 },
 "nbformat": 4,
 "nbformat_minor": 2
}
